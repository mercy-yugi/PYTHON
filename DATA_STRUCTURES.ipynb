{
  "nbformat": 4,
  "nbformat_minor": 0,
  "metadata": {
    "colab": {
      "name": "DATA STRUCTURES.ipynb",
      "provenance": [],
      "collapsed_sections": [],
      "authorship_tag": "ABX9TyNRfSbvOPv2cfDVLPWGEho2",
      "include_colab_link": true
    },
    "kernelspec": {
      "name": "python3",
      "display_name": "Python 3"
    },
    "language_info": {
      "name": "python"
    }
  },
  "cells": [
    {
      "cell_type": "markdown",
      "metadata": {
        "id": "view-in-github",
        "colab_type": "text"
      },
      "source": [
        "<a href=\"https://colab.research.google.com/github/mercy-yugi/PYTHON/blob/main/DATA_STRUCTURES.ipynb\" target=\"_parent\"><img src=\"https://colab.research.google.com/assets/colab-badge.svg\" alt=\"Open In Colab\"/></a>"
      ]
    },
    {
      "cell_type": "code",
      "execution_count": null,
      "metadata": {
        "colab": {
          "base_uri": "https://localhost:8080/"
        },
        "id": "Ay5aFs4R2bu-",
        "outputId": "d42b4448-6c93-449f-86a0-034e3123967c"
      },
      "outputs": [
        {
          "output_type": "stream",
          "name": "stdout",
          "text": [
            "hello world\n",
            "[1, 2, 3, 4]\n",
            "10\n"
          ]
        }
      ],
      "source": [
        "print(\"hello world\")\n",
        "print(list(range(1,5)))\n",
        "total2=0\n",
        "j=1\n",
        "while j<5:\n",
        "  total2+=j\n",
        "  j+=1\n",
        "print(total2)\n",
        "given_list=[1,-2,3,44,-5,6,20]\n",
        "\n",
        "\n",
        "i=0\n",
        "total=0\n",
        "while given_list[i]>0:\n",
        "  total+=given_list[i]\n",
        "print(total)\n"
      ]
    },
    {
      "cell_type": "code",
      "source": [
        "x = ['data', 'science']\n",
        "for i in x:\n",
        "    i.upper()\n",
        "print(x)\n",
        "\n",
        "x = 'datascience'\n",
        "for i in x:\n",
        "    print(i.upper())\n",
        "\n",
        "x = 0\n",
        "while x < 100:\n",
        "    x += 2\n",
        "print(x)\n",
        "\n",
        "for num in range(2,-5,-1):\n",
        "  print(num, end = \",\")\n",
        "\n",
        "numbers = [10, 20]\n",
        "items = [\"Chair\", \"Table\"]\n",
        " \n",
        "for x in numbers:\n",
        "  for y in items:\n",
        "    print(x, y)\n",
        "\n",
        "\n",
        "for num in range(10, 14):\n",
        "    for i  in range(2, num):\n",
        "        if num % i == 1:\n",
        "            print(num)\n",
        "            break\n",
        "\n",
        "dphi = 10\n",
        "for i in range(10):\n",
        "    for j in range(2, 10, 1):\n",
        "        if dphi % 2 == 0:\n",
        "            continue\n",
        "            dphi += 1\n",
        "    dphi+=1\n",
        "else:\n",
        "    dphi+=1\n",
        "print(dphi)\n",
        "\n",
        "datathons = ['data sprint #1', 'data sprint #2', 'data sprint #3', 'data sprint #4', 'data sprint #5', 'data sprint #5', 'data sprint #6']\n",
        "print(list(enumerate(datathons)))"
      ],
      "metadata": {
        "colab": {
          "base_uri": "https://localhost:8080/"
        },
        "id": "VuMc-KuH7Gk8",
        "outputId": "283877cf-2023-4e43-dc30-2bbb2beaffba"
      },
      "execution_count": 11,
      "outputs": [
        {
          "output_type": "stream",
          "name": "stdout",
          "text": [
            "['data', 'science']\n",
            "D\n",
            "A\n",
            "T\n",
            "A\n",
            "S\n",
            "C\n",
            "I\n",
            "E\n",
            "N\n",
            "C\n",
            "E\n",
            "100\n",
            "2,1,0,-1,-2,-3,-4,10 Chair\n",
            "10 Table\n",
            "20 Chair\n",
            "20 Table\n",
            "10\n",
            "11\n",
            "12\n",
            "13\n",
            "21\n",
            "[(0, 'data sprint #1'), (1, 'data sprint #2'), (2, 'data sprint #3'), (3, 'data sprint #4'), (4, 'data sprint #5'), (5, 'data sprint #5'), (6, 'data sprint #6')]\n"
          ]
        }
      ]
    },
    {
      "cell_type": "code",
      "source": [
        "list1=[10,20,51,60,20,10,23,25,23,51,25]\n",
        "list2=[]\n",
        "for item in list1:\n",
        "  if item in list2:\n",
        "    continue\n",
        "  else:\n",
        "    list2.append(item)\n",
        "print(list2)\n",
        "\n",
        "fruits={\"orange\",\"apple\",\"mango\",\"apple\",\"orange\"}\n",
        "print(fruits)\n",
        "print(type(fruits))\n",
        "\n",
        "a=set()\n",
        "a.add(1)\n",
        "a.add(2)\n",
        "print(a)\n",
        "print(type(a))\n",
        "a.update([33,45,67,89])\n",
        "a.remove(67)\n",
        "print(len(a))\n",
        "print(a)\n",
        "\n",
        "s1={1,2,3,4,5,6,7,8,9}\n",
        "s2={2,4,11,23,45,7,56}\n",
        "print(s1|s2)\n",
        "print(s1&s2)\n",
        "print(s1-s2)\n",
        "print(s2-s1)\n",
        "\n",
        "x=set(['a','b'])\n",
        "print(x)\n",
        "y={('a','b')}\n",
        "print(y)"
      ],
      "metadata": {
        "colab": {
          "base_uri": "https://localhost:8080/"
        },
        "id": "rwetiC8f7eAB",
        "outputId": "cb17021c-af07-4611-98f5-3502c11be638"
      },
      "execution_count": 36,
      "outputs": [
        {
          "output_type": "stream",
          "name": "stdout",
          "text": [
            "[10, 20, 51, 60, 23, 25]\n",
            "{'mango', 'orange', 'apple'}\n",
            "<class 'set'>\n",
            "{1, 2}\n",
            "<class 'set'>\n",
            "5\n",
            "{1, 2, 33, 45, 89}\n",
            "{1, 2, 3, 4, 5, 6, 7, 8, 9, 11, 45, 23, 56}\n",
            "{2, 4, 7}\n",
            "{1, 3, 5, 6, 8, 9}\n",
            "{56, 11, 45, 23}\n",
            "{'a', 'b'}\n",
            "{('a', 'b')}\n"
          ]
        }
      ]
    },
    {
      "cell_type": "code",
      "source": [
        "s = {'dphi', 'data', 'science', 'bootcamp', 'deep', 'learning'}\n",
        "s.discard('data science')\n",
        "print(s)\n",
        "bootcamp = {2}\n",
        "bootcamp1 = {'dphi', 'data', 'science', 'bootcamp'}\n",
        "bootcamp2 = {'dphi', 'deep', 'learning', 'bootcamp'}\n",
        "bootcamps = bootcamp1.union(bootcamp2)\n",
        "bc = bootcamp.union(bootcamps)\n",
        "print(bc)\n",
        "courses = {'Python Beginners', 'NumPy', 'Pandas', 'Matplotlib', 'EDA'}\n",
        "courses.update(['Python Intermediate', 'Maths'])\n",
        "print(courses)"
      ],
      "metadata": {
        "colab": {
          "base_uri": "https://localhost:8080/"
        },
        "id": "abcKmplP78xs",
        "outputId": "b0175a7b-4df1-441e-8911-59a922e91655"
      },
      "execution_count": 39,
      "outputs": [
        {
          "output_type": "stream",
          "name": "stdout",
          "text": [
            "{'bootcamp', 'science', 'learning', 'deep', 'dphi', 'data'}\n",
            "{'deep', 2, 'dphi', 'data', 'bootcamp', 'science', 'learning'}\n",
            "{'EDA', 'Python Beginners', 'Matplotlib', 'Python Intermediate', 'NumPy', 'Pandas', 'Maths'}\n"
          ]
        }
      ]
    },
    {
      "cell_type": "code",
      "source": [
        "a=[1,34,56,3,2,4,5,6]\n",
        "b=[]\n",
        "b.append(10)\n",
        "b.append(20)\n",
        "b.append(30)\n",
        "b.append(40)\n",
        "print(b)\n",
        "c=[]\n",
        "for x in b:\n",
        "  c.append(x*3)\n",
        "print(c)\n",
        "\n",
        "d=[y*2 for y in a]\n",
        "print(d)\n",
        "\n",
        "el=[m**2 for m in range(1,10)]\n",
        "print(el)\n",
        "\n",
        "f=[k**4 for k  in range(6,0,-1)]\n",
        "print(f)"
      ],
      "metadata": {
        "colab": {
          "base_uri": "https://localhost:8080/"
        },
        "id": "1FxA0TwpJkU9",
        "outputId": "92261642-24cd-42b0-f4e3-f7f30cfa5f16"
      },
      "execution_count": 18,
      "outputs": [
        {
          "output_type": "stream",
          "name": "stdout",
          "text": [
            "[10, 20, 30, 40]\n",
            "[30, 60, 90, 120]\n",
            "[2, 68, 112, 6, 4, 8, 10, 12]\n",
            "[1, 4, 9, 16, 25, 36, 49, 64, 81]\n",
            "[1296, 625, 256, 81, 16, 1]\n"
          ]
        }
      ]
    },
    {
      "cell_type": "code",
      "source": [
        ""
      ],
      "metadata": {
        "id": "vttOxuNHxowY"
      },
      "execution_count": null,
      "outputs": []
    }
  ]
}